{
  "nbformat": 4,
  "nbformat_minor": 0,
  "metadata": {
    "colab": {
      "name": "Handcrafted Matrix_Problem_1.ipynb",
      "provenance": [],
      "collapsed_sections": []
    },
    "kernelspec": {
      "name": "python3",
      "display_name": "Python 3"
    },
    "accelerator": "GPU"
  },
  "cells": [
    {
      "cell_type": "code",
      "metadata": {
        "id": "4fPWvEFlQZXX",
        "colab_type": "code",
        "outputId": "d9bdecf5-a402-4ff7-8971-307e843d119c",
        "colab": {
          "base_uri": "https://localhost:8080/",
          "height": 114
        }
      },
      "source": [
        "import numpy as np\n",
        "import matplotlib.pyplot as plt\n",
        "from tensorflow import keras\n",
        "from keras import models\n",
        "from keras.datasets import mnist\n",
        "from keras.utils import to_categorical\n",
        "from keras.layers import Dense, Flatten\n",
        "\n",
        "\n",
        "(train_images, train_labels), (test_images, test_labels) = mnist.load_data()"
      ],
      "execution_count": 0,
      "outputs": [
        {
          "output_type": "display_data",
          "data": {
            "text/html": [
              "<p style=\"color: red;\">\n",
              "The default version of TensorFlow in Colab will soon switch to TensorFlow 2.x.<br>\n",
              "We recommend you <a href=\"https://www.tensorflow.org/guide/migrate\" target=\"_blank\">upgrade</a> now \n",
              "or ensure your notebook will continue to use TensorFlow 1.x via the <code>%tensorflow_version 1.x</code> magic:\n",
              "<a href=\"https://colab.research.google.com/notebooks/tensorflow_version.ipynb\" target=\"_blank\">more info</a>.</p>\n"
            ],
            "text/plain": [
              "<IPython.core.display.HTML object>"
            ]
          },
          "metadata": {
            "tags": []
          }
        },
        {
          "output_type": "stream",
          "text": [
            "Using TensorFlow backend.\n"
          ],
          "name": "stderr"
        },
        {
          "output_type": "stream",
          "text": [
            "Downloading data from https://s3.amazonaws.com/img-datasets/mnist.npz\n",
            "11493376/11490434 [==============================] - 0s 0us/step\n"
          ],
          "name": "stdout"
        }
      ]
    },
    {
      "cell_type": "code",
      "metadata": {
        "id": "s-8htEdKQ8Oj",
        "colab_type": "code",
        "colab": {}
      },
      "source": [
        "flat_train_images = train_images.reshape((60000, 784))\n",
        "flat_train_images = train_images.astype('float32') / 255.0\n",
        "\n",
        "flat_test_images = test_images.reshape((10000, 784))\n",
        "flat_test_images = test_images.astype('float32') / 255.0"
      ],
      "execution_count": 0,
      "outputs": []
    },
    {
      "cell_type": "code",
      "metadata": {
        "id": "ca-xCeHCTu-K",
        "colab_type": "code",
        "colab": {}
      },
      "source": [
        "cat_labels_train = to_categorical(train_labels)\n",
        "cat_labels_test  = to_categorical(test_labels)"
      ],
      "execution_count": 0,
      "outputs": []
    },
    {
      "cell_type": "code",
      "metadata": {
        "id": "7rGKjR8iVjpJ",
        "colab_type": "code",
        "colab": {}
      },
      "source": [
        "baseline_model = keras.Sequential([keras.layers.Flatten(), keras.layers.Dense(10, activation='softmax')])\n",
        "\n",
        "baseline_model.compile(optimizer='adam',\n",
        "             loss='sparse_categorical_crossentropy',\n",
        "             metrics=['accuracy'])\n"
      ],
      "execution_count": 0,
      "outputs": []
    },
    {
      "cell_type": "code",
      "metadata": {
        "id": "Hii6w4ZEZOvb",
        "colab_type": "code",
        "outputId": "f349c796-3902-4d15-aa71-a30d216010c5",
        "colab": {
          "base_uri": "https://localhost:8080/",
          "height": 445
        }
      },
      "source": [
        "epochs = 10\n",
        "baseline_history = baseline_model.fit(flat_train_images, \n",
        "                      train_labels,\n",
        "                      epochs=epochs,\n",
        "                      validation_data=(flat_test_images, test_labels))"
      ],
      "execution_count": 0,
      "outputs": [
        {
          "output_type": "stream",
          "text": [
            "WARNING:tensorflow:From /usr/local/lib/python3.6/dist-packages/tensorflow_core/python/ops/resource_variable_ops.py:1630: calling BaseResourceVariable.__init__ (from tensorflow.python.ops.resource_variable_ops) with constraint is deprecated and will be removed in a future version.\n",
            "Instructions for updating:\n",
            "If using Keras pass *_constraint arguments to layers.\n",
            "Train on 60000 samples, validate on 10000 samples\n",
            "Epoch 1/10\n",
            "60000/60000 [==============================] - 7s 109us/sample - loss: 0.4706 - acc: 0.8762 - val_loss: 0.3065 - val_acc: 0.9149\n",
            "Epoch 2/10\n",
            "60000/60000 [==============================] - 6s 101us/sample - loss: 0.3035 - acc: 0.9148 - val_loss: 0.2845 - val_acc: 0.9216\n",
            "Epoch 3/10\n",
            "60000/60000 [==============================] - 6s 101us/sample - loss: 0.2829 - acc: 0.9208 - val_loss: 0.2779 - val_acc: 0.9229\n",
            "Epoch 4/10\n",
            "60000/60000 [==============================] - 7s 109us/sample - loss: 0.2728 - acc: 0.9238 - val_loss: 0.2667 - val_acc: 0.9262\n",
            "Epoch 5/10\n",
            "60000/60000 [==============================] - 7s 111us/sample - loss: 0.2666 - acc: 0.9265 - val_loss: 0.2655 - val_acc: 0.9248\n",
            "Epoch 6/10\n",
            "60000/60000 [==============================] - 7s 114us/sample - loss: 0.2620 - acc: 0.9266 - val_loss: 0.2697 - val_acc: 0.9234\n",
            "Epoch 7/10\n",
            "60000/60000 [==============================] - 7s 116us/sample - loss: 0.2580 - acc: 0.9283 - val_loss: 0.2618 - val_acc: 0.9281\n",
            "Epoch 8/10\n",
            "60000/60000 [==============================] - 7s 117us/sample - loss: 0.2549 - acc: 0.9292 - val_loss: 0.2668 - val_acc: 0.9250\n",
            "Epoch 9/10\n",
            "60000/60000 [==============================] - 7s 115us/sample - loss: 0.2532 - acc: 0.9302 - val_loss: 0.2656 - val_acc: 0.9266\n",
            "Epoch 10/10\n",
            "60000/60000 [==============================] - 7s 113us/sample - loss: 0.2510 - acc: 0.9305 - val_loss: 0.2623 - val_acc: 0.9289\n"
          ],
          "name": "stdout"
        }
      ]
    },
    {
      "cell_type": "code",
      "metadata": {
        "id": "GKwZ1q-mefs5",
        "colab_type": "code",
        "colab": {}
      },
      "source": [
        "def getWidthAndHeight(image):\n",
        "  temp_left_right = [28,0]\n",
        "  temp_top_bottom = [28,0]\n",
        "  rowAverage = []\n",
        "  rowSum = 0\n",
        "  threshold = 10\n",
        "  for i in range(28):\n",
        "    for j in range(28):\n",
        "      pixel = image[i][j]\n",
        "      rowSum += pixel\n",
        "      if(pixel > threshold and j<temp_left_right[0]):\n",
        "        temp_left_right[0] = j\n",
        "      if(pixel > threshold and j>temp_left_right[1]):\n",
        "        temp_left_right[1] = j\n",
        "      if(pixel > threshold and i<temp_top_bottom[0]):\n",
        "        temp_top_bottom[0] = i\n",
        "      if(pixel > threshold and i>temp_top_bottom[1]):\n",
        "        temp_top_bottom[1] = i\n",
        "    rowAverage.append(rowSum/28)\n",
        "  return [temp_left_right[1]-temp_left_right[0]+1, temp_top_bottom[1]-temp_top_bottom[0]+1, rowAverage]\n"
      ],
      "execution_count": 0,
      "outputs": []
    },
    {
      "cell_type": "code",
      "metadata": {
        "id": "idjg6WFQ4fLf",
        "colab_type": "code",
        "colab": {}
      },
      "source": [
        "handcrafted = 60000*[0]\n",
        "test_handcrafted = 10000*[0]\n",
        "for i in range(60000):\n",
        "  result = getWidthAndHeight(train_images[i])\n",
        "  handcrafted[i] = np.concatenate((flat_train_images[i].flatten(),[result[0]],[result[1]]))\n",
        "for i in range(10000):\n",
        "  result = getWidthAndHeight(test_images[i])\n",
        "  test_handcrafted[i] = np.concatenate((flat_test_images[i].flatten(),[result[0]],[result[1]]))"
      ],
      "execution_count": 0,
      "outputs": []
    },
    {
      "cell_type": "code",
      "metadata": {
        "id": "9fLuc8zimZei",
        "colab_type": "code",
        "colab": {}
      },
      "source": [
        "handcrafted_model = keras.Sequential([keras.layers.Dense(10,activation='softmax')])\n",
        "\n",
        "handcrafted_model.compile(optimizer='adam',\n",
        "             loss='sparse_categorical_crossentropy',\n",
        "             metrics=['accuracy'])"
      ],
      "execution_count": 0,
      "outputs": []
    },
    {
      "cell_type": "code",
      "metadata": {
        "id": "n9H6TE5ytB_r",
        "colab_type": "code",
        "outputId": "ce624501-dfc0-4e53-e85d-360e81f17d63",
        "colab": {
          "base_uri": "https://localhost:8080/",
          "height": 374
        }
      },
      "source": [
        "handcrafted_history = handcrafted_model.fit(np.array(handcrafted), \n",
        "                      train_labels,\n",
        "                      epochs=epochs,\n",
        "                      validation_data=(np.array(test_handcrafted), test_labels))"
      ],
      "execution_count": 0,
      "outputs": [
        {
          "output_type": "stream",
          "text": [
            "Train on 60000 samples, validate on 10000 samples\n",
            "Epoch 1/10\n",
            "60000/60000 [==============================] - 6s 94us/sample - loss: 0.4653 - acc: 0.8764 - val_loss: 0.2951 - val_acc: 0.9167\n",
            "Epoch 2/10\n",
            "60000/60000 [==============================] - 6s 93us/sample - loss: 0.2874 - acc: 0.9173 - val_loss: 0.2643 - val_acc: 0.9245\n",
            "Epoch 3/10\n",
            "60000/60000 [==============================] - 6s 96us/sample - loss: 0.2656 - acc: 0.9234 - val_loss: 0.2576 - val_acc: 0.9254\n",
            "Epoch 4/10\n",
            "60000/60000 [==============================] - 6s 95us/sample - loss: 0.2542 - acc: 0.9272 - val_loss: 0.2482 - val_acc: 0.9292\n",
            "Epoch 5/10\n",
            "60000/60000 [==============================] - 6s 93us/sample - loss: 0.2481 - acc: 0.9281 - val_loss: 0.2484 - val_acc: 0.9310\n",
            "Epoch 6/10\n",
            "60000/60000 [==============================] - 6s 95us/sample - loss: 0.2431 - acc: 0.9309 - val_loss: 0.2440 - val_acc: 0.9298\n",
            "Epoch 7/10\n",
            "60000/60000 [==============================] - 6s 94us/sample - loss: 0.2399 - acc: 0.9313 - val_loss: 0.2442 - val_acc: 0.9312\n",
            "Epoch 8/10\n",
            "60000/60000 [==============================] - 6s 94us/sample - loss: 0.2358 - acc: 0.9322 - val_loss: 0.2459 - val_acc: 0.9300\n",
            "Epoch 9/10\n",
            "60000/60000 [==============================] - 6s 96us/sample - loss: 0.2340 - acc: 0.9324 - val_loss: 0.2484 - val_acc: 0.9303\n",
            "Epoch 10/10\n",
            "60000/60000 [==============================] - 6s 92us/sample - loss: 0.2319 - acc: 0.9334 - val_loss: 0.2462 - val_acc: 0.9302\n"
          ],
          "name": "stdout"
        }
      ]
    },
    {
      "cell_type": "code",
      "metadata": {
        "id": "K6QrJ9RI1Z4Q",
        "colab_type": "code",
        "outputId": "65d76800-b952-4ef8-b63a-8e8463aee16e",
        "colab": {
          "base_uri": "https://localhost:8080/",
          "height": 153
        }
      },
      "source": [
        "test_reg_loss, test_reg_acc = baseline_model.evaluate(test_images, test_labels)\n",
        "test_hand_loss, test_hand_acc = handcrafted_model.evaluate(np.array(test_handcrafted), test_labels)\n",
        "\n",
        "print('Baseline Model: Test accuracy:', test_reg_acc*100)\n",
        "print('Handcrafted Model: Test accuracy:', test_hand_acc*100,'\\n\\n')\n",
        "print('Baseline Model: Test loss:', test_reg_loss)\n",
        "print('Handcrafted Model: Test loss:', test_hand_loss)"
      ],
      "execution_count": 0,
      "outputs": [
        {
          "output_type": "stream",
          "text": [
            "10000/10000 [==============================] - 1s 68us/sample - loss: 55.2548 - acc: 0.9021\n",
            "10000/10000 [==============================] - 1s 64us/sample - loss: 0.2462 - acc: 0.9302\n",
            "Baseline Model: Test accuracy: 90.21000266075134\n",
            "Handcrafted Model: Test accuracy: 93.01999807357788 \n",
            "\n",
            "\n",
            "Baseline Model: Test loss: 55.25483209174876\n",
            "Handcrafted Model: Test loss: 0.2462131072342396\n"
          ],
          "name": "stdout"
        }
      ]
    },
    {
      "cell_type": "code",
      "metadata": {
        "id": "A4ZUtpFk0CCS",
        "colab_type": "code",
        "colab": {}
      },
      "source": [
        "history_reg_dict = baseline_history.history\n",
        "loss_reg_values = history_reg_dict['loss']\n",
        "test_reg_loss_values = history_reg_dict['val_loss']\n",
        "epochs_reg_range = range(1, epochs+1)\n",
        "\n",
        "history_hand_dict = handcrafted_history.history\n",
        "loss_hand_values = history_hand_dict['loss']\n",
        "test_hand_loss_values = history_hand_dict['val_loss']\n",
        "epochs_hand_range = range(1, epochs+1)\n",
        "\n",
        "\n",
        "\n",
        "modelHistory = [[history_reg_dict, loss_reg_values, test_reg_loss_values, epochs_hand_range],\n",
        "                [history_hand_dict, loss_hand_values, test_hand_loss_values, epochs_hand_range]]"
      ],
      "execution_count": 0,
      "outputs": []
    },
    {
      "cell_type": "code",
      "metadata": {
        "id": "IvQChnz80qQx",
        "colab_type": "code",
        "outputId": "7b94dbf2-5a01-4ba0-8198-47ef879ed360",
        "colab": {
          "base_uri": "https://localhost:8080/",
          "height": 177
        }
      },
      "source": [
        "fig = plt.figure()\n",
        "fig.subplots_adjust(right=2)\n",
        "for i in range(1, 3):\n",
        "    plt.subplot(2, 2, i)\n",
        "    plt.plot(modelHistory[i-1][3], modelHistory[i-1][1], 'bo', label='Training loss')\n",
        "    plt.plot(modelHistory[i-1][3], modelHistory[i-1][2], 'ro', label='Test loss')\n",
        "    if(i==1):\n",
        "      plt.title('Baseline Training and Test Loss')\n",
        "    elif(i==2):\n",
        "      plt.title('Handcrafted Training and Test Loss')\n",
        "    plt.xlabel('Epochs')\n",
        "    plt.ylabel('Loss')\n",
        "    plt.legend()"
      ],
      "execution_count": 0,
      "outputs": [
        {
          "output_type": "display_data",
          "data": {
            "image/png": "[encoded data removed]",
            "text/plain": [
              "<Figure size 432x288 with 2 Axes>"
            ]
          },
          "metadata": {
            "tags": []
          }
        }
      ]
    },
    {
      "cell_type": "code",
      "metadata": {
        "id": "f5LgOQIv04e7",
        "colab_type": "code",
        "colab": {}
      },
      "source": [
        "acc_reg_values = history_reg_dict['acc']\n",
        "test_acc_reg_values = history_reg_dict['val_acc']\n",
        "\n",
        "acc_hand_values = history_hand_dict['acc']\n",
        "test_acc_hand_values = history_hand_dict['val_acc']\n",
        "\n",
        "accHistory = [[acc_reg_values, test_acc_reg_values],\n",
        "              [acc_hand_values, test_acc_hand_values]]"
      ],
      "execution_count": 0,
      "outputs": []
    },
    {
      "cell_type": "code",
      "metadata": {
        "id": "GhDxHBcK1K3F",
        "colab_type": "code",
        "outputId": "e8b897ce-7663-41e1-bd48-185e34f61350",
        "colab": {
          "base_uri": "https://localhost:8080/",
          "height": 177
        }
      },
      "source": [
        "fig = plt.figure()\n",
        "fig.subplots_adjust(right=2)\n",
        "for i in range(1, 3):\n",
        "    plt.subplot(2, 2, i)\n",
        "    plt.plot(modelHistory[i-1][3], accHistory[i-1][0], 'bo', label='Training acc')\n",
        "    plt.plot(modelHistory[i-1][3], accHistory[i-1][1], 'ro', label='Test acc')\n",
        "    if(i==1):\n",
        "      plt.title('Baseline Training and Test Acc')\n",
        "    elif(i==2):\n",
        "      plt.title('Handcrafted Training and Test Acc')\n",
        "    plt.xlabel('Epochs')\n",
        "    plt.ylabel('Acc')\n",
        "    plt.legend()"
      ],
      "execution_count": 0,
      "outputs": [
        {
          "output_type": "display_data",
          "data": {
            "image/png": "[encoded data removed]",
            "text/plain": [
              "<Figure size 432x288 with 2 Axes>"
            ]
          },
          "metadata": {
            "tags": []
          }
        }
      ]
    }
  ]
}