{
  "nbformat": 4,
  "nbformat_minor": 0,
  "metadata": {
    "colab": {
      "name": "CIFAR_Problem_3.ipynb",
      "provenance": [],
      "collapsed_sections": [],
      "machine_shape": "hm"
    },
    "kernelspec": {
      "name": "python3",
      "display_name": "Python 3"
    }
  },
  "cells": [
    {
      "cell_type": "code",
      "metadata": {
        "id": "SDQLY0o8DwOW",
        "colab_type": "code",
        "outputId": "a8be910a-e0ca-40b5-990c-01fba83392fc",
        "colab": {
          "base_uri": "https://localhost:8080/",
          "height": 131
        }
      },
      "source": [
        "from keras.datasets import cifar10\n",
        "from keras import models\n",
        "from keras import layers\n",
        "from keras.utils import to_categorical\n",
        "from keras.layers import Activation, Flatten, Dense, Dropout, Conv2D, MaxPooling2D\n",
        "import numpy as np\n",
        "import matplotlib.pyplot as plt\n",
        "\n",
        "(train_images, train_labels), (test_images, test_labels) = cifar10.load_data()"
      ],
      "execution_count": 5,
      "outputs": [
        {
          "output_type": "stream",
          "text": [
            "Using TensorFlow backend.\n"
          ],
          "name": "stderr"
        },
        {
          "output_type": "display_data",
          "data": {
            "text/html": [
              "<p style=\"color: red;\">\n",
              "The default version of TensorFlow in Colab will soon switch to TensorFlow 2.x.<br>\n",
              "We recommend you <a href=\"https://www.tensorflow.org/guide/migrate\" target=\"_blank\">upgrade</a> now \n",
              "or ensure your notebook will continue to use TensorFlow 1.x via the <code>%tensorflow_version 1.x</code> magic:\n",
              "<a href=\"https://colab.research.google.com/notebooks/tensorflow_version.ipynb\" target=\"_blank\">more info</a>.</p>\n"
            ],
            "text/plain": [
              "<IPython.core.display.HTML object>"
            ]
          },
          "metadata": {
            "tags": []
          }
        },
        {
          "output_type": "stream",
          "text": [
            "Downloading data from https://www.cs.toronto.edu/~kriz/cifar-10-python.tar.gz\n",
            "170500096/170498071 [==============================] - 11s 0us/step\n"
          ],
          "name": "stdout"
        }
      ]
    },
    {
      "cell_type": "code",
      "metadata": {
        "id": "6Gr9sXHhS_Ti",
        "colab_type": "code",
        "colab": {}
      },
      "source": [
        "classes = ['airplane', 'automobile', 'bird', 'cat', 'deer', 'dog', 'frog', 'horse', 'ship', 'truck']"
      ],
      "execution_count": 0,
      "outputs": []
    },
    {
      "cell_type": "code",
      "metadata": {
        "id": "FIw-O1g4Fim5",
        "colab_type": "code",
        "colab": {}
      },
      "source": [
        "train_images = train_images.astype('float32')/255\n",
        "test_images = test_images.astype('float32')/255\n",
        "\n",
        "train_hot_class = to_categorical(train_labels,10)\n",
        "test_hot_class = to_categorical(test_labels,10)"
      ],
      "execution_count": 0,
      "outputs": []
    },
    {
      "cell_type": "code",
      "metadata": {
        "id": "Ak2939S4H7ox",
        "colab_type": "code",
        "outputId": "6c2c5b57-fc97-4880-ff3a-90cd9dde81c5",
        "colab": {
          "base_uri": "https://localhost:8080/",
          "height": 734
        }
      },
      "source": [
        "model_fit = models.Sequential()\n",
        "model_fit.add(layers.Conv2D(32,(3,3), activation='relu',input_shape=train_images.shape[1:], padding='same'))\n",
        "model_fit.add(layers.Conv2D(32, (3,3), activation='relu'))\n",
        "model_fit.add(layers.MaxPooling2D(pool_size=(2,2)))\n",
        "model_fit.add(layers.Dropout(.5))\n",
        "model_fit.add(layers.Conv2D(64,(3,3), activation='relu'))\n",
        "model_fit.add(layers.Conv2D(64, (3,3), activation='relu'))\n",
        "model_fit.add(layers.MaxPooling2D(pool_size=(2,2)))\n",
        "model_fit.add(layers.Dropout(.5))\n",
        "\n",
        "model_fit.add(Flatten())\n",
        "model_fit.add(Dense(512))\n",
        "model_fit.add(Activation('relu'))\n",
        "model_fit.add(Dense(256))\n",
        "model_fit.add(Activation('relu'))\n",
        "model_fit.add(Dense(10, activation='softmax'))\n",
        "\n",
        "\n",
        "model_fit.compile(optimizer='adam',\n",
        "              loss=\"sparse_categorical_crossentropy\",\n",
        "              metrics=['accuracy'])\n",
        "\n",
        "fit_epochs = 20\n",
        "history_fit = model_fit.fit(train_images, train_labels, batch_size=200, epochs=epochs, validation_data=(test_images,test_labels))"
      ],
      "execution_count": 28,
      "outputs": [
        {
          "output_type": "stream",
          "text": [
            "Train on 50000 samples, validate on 10000 samples\n",
            "Epoch 1/20\n",
            "50000/50000 [==============================] - 128s 3ms/step - loss: 1.7078 - acc: 0.3716 - val_loss: 1.3539 - val_acc: 0.5080\n",
            "Epoch 2/20\n",
            "50000/50000 [==============================] - 123s 2ms/step - loss: 1.3177 - acc: 0.5228 - val_loss: 1.1557 - val_acc: 0.5854\n",
            "Epoch 3/20\n",
            "50000/50000 [==============================] - 124s 2ms/step - loss: 1.1650 - acc: 0.5833 - val_loss: 1.0376 - val_acc: 0.6293\n",
            "Epoch 4/20\n",
            "50000/50000 [==============================] - 125s 3ms/step - loss: 1.0593 - acc: 0.6243 - val_loss: 0.9336 - val_acc: 0.6700\n",
            "Epoch 5/20\n",
            "50000/50000 [==============================] - 126s 3ms/step - loss: 0.9888 - acc: 0.6501 - val_loss: 0.9429 - val_acc: 0.6701\n",
            "Epoch 6/20\n",
            "50000/50000 [==============================] - 124s 2ms/step - loss: 0.9229 - acc: 0.6734 - val_loss: 0.8670 - val_acc: 0.6942\n",
            "Epoch 7/20\n",
            "50000/50000 [==============================] - 124s 2ms/step - loss: 0.8649 - acc: 0.6944 - val_loss: 0.8368 - val_acc: 0.7058\n",
            "Epoch 8/20\n",
            "50000/50000 [==============================] - 123s 2ms/step - loss: 0.8177 - acc: 0.7110 - val_loss: 0.7881 - val_acc: 0.7262\n",
            "Epoch 9/20\n",
            "50000/50000 [==============================] - 123s 2ms/step - loss: 0.7847 - acc: 0.7234 - val_loss: 0.7700 - val_acc: 0.7352\n",
            "Epoch 10/20\n",
            "50000/50000 [==============================] - 124s 2ms/step - loss: 0.7417 - acc: 0.7358 - val_loss: 0.7265 - val_acc: 0.7457\n",
            "Epoch 11/20\n",
            "50000/50000 [==============================] - 124s 2ms/step - loss: 0.7146 - acc: 0.7478 - val_loss: 0.7066 - val_acc: 0.7532\n",
            "Epoch 12/20\n",
            "50000/50000 [==============================] - 124s 2ms/step - loss: 0.6824 - acc: 0.7580 - val_loss: 0.6997 - val_acc: 0.7561\n",
            "Epoch 13/20\n",
            "50000/50000 [==============================] - 124s 2ms/step - loss: 0.6652 - acc: 0.7673 - val_loss: 0.6710 - val_acc: 0.7659\n",
            "Epoch 14/20\n",
            "50000/50000 [==============================] - 124s 2ms/step - loss: 0.6358 - acc: 0.7738 - val_loss: 0.6862 - val_acc: 0.7612\n",
            "Epoch 15/20\n",
            "50000/50000 [==============================] - 124s 2ms/step - loss: 0.6162 - acc: 0.7822 - val_loss: 0.6934 - val_acc: 0.7606\n",
            "Epoch 16/20\n",
            "50000/50000 [==============================] - 123s 2ms/step - loss: 0.5981 - acc: 0.7844 - val_loss: 0.6897 - val_acc: 0.7636\n",
            "Epoch 17/20\n",
            "50000/50000 [==============================] - 124s 2ms/step - loss: 0.5742 - acc: 0.7944 - val_loss: 0.6321 - val_acc: 0.7866\n",
            "Epoch 18/20\n",
            "50000/50000 [==============================] - 124s 2ms/step - loss: 0.5562 - acc: 0.8020 - val_loss: 0.6605 - val_acc: 0.7765\n",
            "Epoch 19/20\n",
            "50000/50000 [==============================] - 124s 2ms/step - loss: 0.5307 - acc: 0.8097 - val_loss: 0.6871 - val_acc: 0.7705\n",
            "Epoch 20/20\n",
            "50000/50000 [==============================] - 124s 2ms/step - loss: 0.5222 - acc: 0.8130 - val_loss: 0.6380 - val_acc: 0.7857\n"
          ],
          "name": "stdout"
        }
      ]
    },
    {
      "cell_type": "code",
      "metadata": {
        "id": "nkPqo1fcfpAx",
        "colab_type": "code",
        "colab": {
          "base_uri": "https://localhost:8080/",
          "height": 394
        },
        "outputId": "d45f5904-c1cf-40dd-b4d7-d3ec8aa5594b"
      },
      "source": [
        "model_underfit = models.Sequential()\n",
        "model_underfit.add(layers.Conv2D(32,(2,2), activation='relu',input_shape=train_images.shape[1:], padding='same'))\n",
        "model_underfit.add(layers.MaxPooling2D(pool_size=(20,20)))\n",
        "\n",
        "model_underfit.add(Flatten())\n",
        "model_underfit.add(Dense(10, activation='softmax'))\n",
        "\n",
        "model_underfit.compile(optimizer='adam',\n",
        "              loss=\"sparse_categorical_crossentropy\",\n",
        "              metrics=['accuracy'])\n",
        "\n",
        "under_epochs = 10\n",
        "history_underfit = model_underfit.fit(train_images[:100], train_labels[:100], batch_size=50, epochs=under_epochs, validation_data=(test_images,test_labels))"
      ],
      "execution_count": 36,
      "outputs": [
        {
          "output_type": "stream",
          "text": [
            "Train on 100 samples, validate on 10000 samples\n",
            "Epoch 1/10\n",
            "100/100 [==============================] - 2s 22ms/step - loss: 2.3095 - acc: 0.1300 - val_loss: 2.3563 - val_acc: 0.1007\n",
            "Epoch 2/10\n",
            "100/100 [==============================] - 1s 13ms/step - loss: 2.2999 - acc: 0.1300 - val_loss: 2.3519 - val_acc: 0.1007\n",
            "Epoch 3/10\n",
            "100/100 [==============================] - 1s 13ms/step - loss: 2.2922 - acc: 0.1300 - val_loss: 2.3480 - val_acc: 0.1009\n",
            "Epoch 4/10\n",
            "100/100 [==============================] - 1s 13ms/step - loss: 2.2855 - acc: 0.1300 - val_loss: 2.3447 - val_acc: 0.1007\n",
            "Epoch 5/10\n",
            "100/100 [==============================] - 1s 13ms/step - loss: 2.2795 - acc: 0.1300 - val_loss: 2.3415 - val_acc: 0.1010\n",
            "Epoch 6/10\n",
            "100/100 [==============================] - 1s 13ms/step - loss: 2.2723 - acc: 0.1300 - val_loss: 2.3393 - val_acc: 0.1009\n",
            "Epoch 7/10\n",
            "100/100 [==============================] - 1s 13ms/step - loss: 2.2670 - acc: 0.1300 - val_loss: 2.3375 - val_acc: 0.1012\n",
            "Epoch 8/10\n",
            "100/100 [==============================] - 1s 13ms/step - loss: 2.2620 - acc: 0.1300 - val_loss: 2.3361 - val_acc: 0.1022\n",
            "Epoch 9/10\n",
            "100/100 [==============================] - 1s 13ms/step - loss: 2.2573 - acc: 0.1400 - val_loss: 2.3354 - val_acc: 0.1048\n",
            "Epoch 10/10\n",
            "100/100 [==============================] - 1s 13ms/step - loss: 2.2530 - acc: 0.1900 - val_loss: 2.3350 - val_acc: 0.1079\n"
          ],
          "name": "stdout"
        }
      ]
    },
    {
      "cell_type": "code",
      "metadata": {
        "colab_type": "code",
        "id": "oNxcSwP28Qdo",
        "colab": {
          "base_uri": "https://localhost:8080/",
          "height": 734
        },
        "outputId": "f30162aa-a82c-4738-c519-64cae4623cb4"
      },
      "source": [
        "model_overfit = models.Sequential()\n",
        "model_overfit.add(layers.Conv2D(32,(3,3), activation='relu',input_shape=train_images.shape[1:], padding='same'))\n",
        "model_overfit.add(layers.MaxPooling2D(pool_size=(2,2)))\n",
        "\n",
        "model_overfit.add(Flatten())\n",
        "model_overfit.add(Dense(100))\n",
        "model_overfit.add(Activation('relu'))\n",
        "model_overfit.add(Dense(10, activation='softmax'))\n",
        "\n",
        "model_overfit.compile(optimizer='adam',\n",
        "              loss=\"sparse_categorical_crossentropy\",\n",
        "              metrics=['accuracy'])\n",
        "\n",
        "over_epochs = 20\n",
        "history_overfit = model_overfit.fit(train_images[:500], train_labels[:500], epochs=over_epochs, validation_data=(test_images,test_labels))"
      ],
      "execution_count": 49,
      "outputs": [
        {
          "output_type": "stream",
          "text": [
            "Train on 500 samples, validate on 10000 samples\n",
            "Epoch 1/20\n",
            "500/500 [==============================] - 5s 10ms/step - loss: 2.2974 - acc: 0.1440 - val_loss: 2.1849 - val_acc: 0.1704\n",
            "Epoch 2/20\n",
            "500/500 [==============================] - 4s 7ms/step - loss: 2.0194 - acc: 0.2760 - val_loss: 2.0666 - val_acc: 0.2543\n",
            "Epoch 3/20\n",
            "500/500 [==============================] - 4s 7ms/step - loss: 1.8554 - acc: 0.3320 - val_loss: 2.1028 - val_acc: 0.2261\n",
            "Epoch 4/20\n",
            "500/500 [==============================] - 4s 7ms/step - loss: 1.7484 - acc: 0.3900 - val_loss: 1.9604 - val_acc: 0.2882\n",
            "Epoch 5/20\n",
            "500/500 [==============================] - 4s 7ms/step - loss: 1.5933 - acc: 0.5040 - val_loss: 1.9246 - val_acc: 0.2964\n",
            "Epoch 6/20\n",
            "500/500 [==============================] - 4s 7ms/step - loss: 1.5178 - acc: 0.4720 - val_loss: 1.8704 - val_acc: 0.3298\n",
            "Epoch 7/20\n",
            "500/500 [==============================] - 4s 7ms/step - loss: 1.3524 - acc: 0.5680 - val_loss: 1.8959 - val_acc: 0.3169\n",
            "Epoch 8/20\n",
            "500/500 [==============================] - 4s 7ms/step - loss: 1.2596 - acc: 0.5700 - val_loss: 1.9309 - val_acc: 0.3221\n",
            "Epoch 9/20\n",
            "500/500 [==============================] - 4s 7ms/step - loss: 1.1377 - acc: 0.6480 - val_loss: 1.8664 - val_acc: 0.3491\n",
            "Epoch 10/20\n",
            "500/500 [==============================] - 4s 7ms/step - loss: 1.0529 - acc: 0.6600 - val_loss: 1.9662 - val_acc: 0.3298\n",
            "Epoch 11/20\n",
            "500/500 [==============================] - 4s 7ms/step - loss: 0.9929 - acc: 0.6960 - val_loss: 1.8238 - val_acc: 0.3635\n",
            "Epoch 12/20\n",
            "500/500 [==============================] - 4s 7ms/step - loss: 0.8593 - acc: 0.7440 - val_loss: 1.9367 - val_acc: 0.3473\n",
            "Epoch 13/20\n",
            "500/500 [==============================] - 4s 7ms/step - loss: 0.7681 - acc: 0.7980 - val_loss: 1.8897 - val_acc: 0.3664\n",
            "Epoch 14/20\n",
            "500/500 [==============================] - 4s 7ms/step - loss: 0.6856 - acc: 0.8280 - val_loss: 1.8609 - val_acc: 0.3679\n",
            "Epoch 15/20\n",
            "500/500 [==============================] - 4s 7ms/step - loss: 0.5919 - acc: 0.8880 - val_loss: 1.8496 - val_acc: 0.3721\n",
            "Epoch 16/20\n",
            "500/500 [==============================] - 4s 7ms/step - loss: 0.5312 - acc: 0.8840 - val_loss: 1.9142 - val_acc: 0.3654\n",
            "Epoch 17/20\n",
            "500/500 [==============================] - 4s 7ms/step - loss: 0.4602 - acc: 0.9220 - val_loss: 1.9292 - val_acc: 0.3605\n",
            "Epoch 18/20\n",
            "500/500 [==============================] - 4s 7ms/step - loss: 0.4278 - acc: 0.9260 - val_loss: 1.9495 - val_acc: 0.3557\n",
            "Epoch 19/20\n",
            "500/500 [==============================] - 4s 7ms/step - loss: 0.3516 - acc: 0.9340 - val_loss: 2.0289 - val_acc: 0.3612\n",
            "Epoch 20/20\n",
            "500/500 [==============================] - 4s 7ms/step - loss: 0.3539 - acc: 0.9460 - val_loss: 1.9946 - val_acc: 0.3651\n"
          ],
          "name": "stdout"
        }
      ]
    },
    {
      "cell_type": "code",
      "metadata": {
        "id": "CaAgSkT468qV",
        "colab_type": "code",
        "outputId": "298f0ca4-8424-4037-9a69-a2bd6045a503",
        "colab": {
          "base_uri": "https://localhost:8080/",
          "height": 629
        }
      },
      "source": [
        "model_fit.summary()"
      ],
      "execution_count": 25,
      "outputs": [
        {
          "output_type": "stream",
          "text": [
            "Model: \"sequential_1\"\n",
            "_________________________________________________________________\n",
            "Layer (type)                 Output Shape              Param #   \n",
            "=================================================================\n",
            "conv2d_1 (Conv2D)            (None, 32, 32, 32)        896       \n",
            "_________________________________________________________________\n",
            "conv2d_2 (Conv2D)            (None, 30, 30, 32)        9248      \n",
            "_________________________________________________________________\n",
            "max_pooling2d_1 (MaxPooling2 (None, 15, 15, 32)        0         \n",
            "_________________________________________________________________\n",
            "dropout_1 (Dropout)          (None, 15, 15, 32)        0         \n",
            "_________________________________________________________________\n",
            "conv2d_3 (Conv2D)            (None, 13, 13, 64)        18496     \n",
            "_________________________________________________________________\n",
            "conv2d_4 (Conv2D)            (None, 11, 11, 64)        36928     \n",
            "_________________________________________________________________\n",
            "max_pooling2d_2 (MaxPooling2 (None, 5, 5, 64)          0         \n",
            "_________________________________________________________________\n",
            "dropout_2 (Dropout)          (None, 5, 5, 64)          0         \n",
            "_________________________________________________________________\n",
            "flatten_1 (Flatten)          (None, 1600)              0         \n",
            "_________________________________________________________________\n",
            "dense_1 (Dense)              (None, 512)               819712    \n",
            "_________________________________________________________________\n",
            "activation_1 (Activation)    (None, 512)               0         \n",
            "_________________________________________________________________\n",
            "dense_2 (Dense)              (None, 256)               131328    \n",
            "_________________________________________________________________\n",
            "activation_2 (Activation)    (None, 256)               0         \n",
            "_________________________________________________________________\n",
            "dense_3 (Dense)              (None, 10)                2570      \n",
            "=================================================================\n",
            "Total params: 1,019,178\n",
            "Trainable params: 1,019,178\n",
            "Non-trainable params: 0\n",
            "_________________________________________________________________\n"
          ],
          "name": "stdout"
        }
      ]
    },
    {
      "cell_type": "code",
      "metadata": {
        "id": "mIYGNzbSgZ2t",
        "colab_type": "code",
        "colab": {
          "base_uri": "https://localhost:8080/",
          "height": 391
        },
        "outputId": "306b4430-dc49-4aa7-c0c6-bedf10719136"
      },
      "source": [
        "model_underfit.summary()"
      ],
      "execution_count": 15,
      "outputs": [
        {
          "output_type": "stream",
          "text": [
            "Model: \"sequential_2\"\n",
            "_________________________________________________________________\n",
            "Layer (type)                 Output Shape              Param #   \n",
            "=================================================================\n",
            "conv2d_5 (Conv2D)            (None, 32, 32, 32)        896       \n",
            "_________________________________________________________________\n",
            "conv2d_6 (Conv2D)            (None, 30, 30, 32)        9248      \n",
            "_________________________________________________________________\n",
            "max_pooling2d_3 (MaxPooling2 (None, 15, 15, 32)        0         \n",
            "_________________________________________________________________\n",
            "flatten_2 (Flatten)          (None, 7200)              0         \n",
            "_________________________________________________________________\n",
            "dense_4 (Dense)              (None, 2)                 14402     \n",
            "_________________________________________________________________\n",
            "activation_3 (Activation)    (None, 2)                 0         \n",
            "_________________________________________________________________\n",
            "dense_5 (Dense)              (None, 10)                30        \n",
            "=================================================================\n",
            "Total params: 24,576\n",
            "Trainable params: 24,576\n",
            "Non-trainable params: 0\n",
            "_________________________________________________________________\n"
          ],
          "name": "stdout"
        }
      ]
    },
    {
      "cell_type": "code",
      "metadata": {
        "id": "sXdvRJ8a8iRu",
        "colab_type": "code",
        "colab": {
          "base_uri": "https://localhost:8080/",
          "height": 391
        },
        "outputId": "410e4c49-89e7-4e7e-d59e-f80a099dcc7e"
      },
      "source": [
        "model_overfit.summary()"
      ],
      "execution_count": 16,
      "outputs": [
        {
          "output_type": "stream",
          "text": [
            "Model: \"sequential_3\"\n",
            "_________________________________________________________________\n",
            "Layer (type)                 Output Shape              Param #   \n",
            "=================================================================\n",
            "conv2d_7 (Conv2D)            (None, 32, 32, 32)        896       \n",
            "_________________________________________________________________\n",
            "conv2d_8 (Conv2D)            (None, 30, 30, 32)        9248      \n",
            "_________________________________________________________________\n",
            "max_pooling2d_4 (MaxPooling2 (None, 15, 15, 32)        0         \n",
            "_________________________________________________________________\n",
            "flatten_3 (Flatten)          (None, 7200)              0         \n",
            "_________________________________________________________________\n",
            "dense_6 (Dense)              (None, 5000)              36005000  \n",
            "_________________________________________________________________\n",
            "activation_4 (Activation)    (None, 5000)              0         \n",
            "_________________________________________________________________\n",
            "dense_7 (Dense)              (None, 10)                50010     \n",
            "=================================================================\n",
            "Total params: 36,065,154\n",
            "Trainable params: 36,065,154\n",
            "Non-trainable params: 0\n",
            "_________________________________________________________________\n"
          ],
          "name": "stdout"
        }
      ]
    },
    {
      "cell_type": "code",
      "metadata": {
        "id": "L3CDSD5MMXo8",
        "colab_type": "code",
        "colab": {
          "base_uri": "https://localhost:8080/",
          "height": 204
        },
        "outputId": "7b7ae31e-f92d-4d1d-fca5-570033bbccf0"
      },
      "source": [
        "test_fit_loss, test_fit_acc = model_fit.evaluate(test_images, test_labels)\n",
        "test_under_loss, test_under_acc = model_underfit.evaluate(test_images, test_labels)\n",
        "test_over_loss, test_over_acc = model_overfit.evaluate(test_images, test_labels)\n",
        "\n",
        "print('Fit Model: Test accuracy:', test_fit_acc*100)\n",
        "print('Underfit Model: Test accuracy:', test_under_acc*100)\n",
        "print('Overfit Model: Test accuracy:', test_over_acc*100,'\\n\\n')\n",
        "print('Fit Model: Test loss:', test_fit_loss)\n",
        "print('Underfit Model: Test loss:', test_under_loss)\n",
        "print('Overfit Model: Test loss:', test_over_loss)"
      ],
      "execution_count": 50,
      "outputs": [
        {
          "output_type": "stream",
          "text": [
            "10000/10000 [==============================] - 11s 1ms/step\n",
            "10000/10000 [==============================] - 2s 159us/step\n",
            "10000/10000 [==============================] - 3s 325us/step\n",
            "Fit Model: Test accuracy: 78.57\n",
            "Underfit Model: Test accuracy: 10.79\n",
            "Overfit Model: Test accuracy: 36.51 \n",
            "\n",
            "\n",
            "Fit Model: Test loss: 0.638023579454422\n",
            "Underfit Model: Test loss: 2.3350405181884764\n",
            "Overfit Model: Test loss: 1.994646323776245\n"
          ],
          "name": "stdout"
        }
      ]
    },
    {
      "cell_type": "code",
      "metadata": {
        "id": "zRxz8bbeE3Cx",
        "colab_type": "code",
        "colab": {}
      },
      "source": [
        "history_fit_dict = history_fit.history\n",
        "loss_fit_values = history_fit_dict['loss']\n",
        "test_fit_loss_values = history_fit_dict['val_loss']\n",
        "epochs_fit_range = range(1, fit_epochs+1)\n",
        "\n",
        "history_under_dict = history_underfit.history\n",
        "loss_under_values = history_under_dict['loss']\n",
        "test_under_loss_values = history_under_dict['val_loss']\n",
        "epochs_under_range = range(1, under_epochs+1)\n",
        "\n",
        "history_over_dict = history_overfit.history\n",
        "loss_over_values = history_over_dict['loss']\n",
        "test_over_loss_values = history_over_dict['val_loss']\n",
        "epochs_over_range = range(1, over_epochs+1)\n",
        "\n",
        "modelHistory = [[history_fit_dict, loss_fit_values, test_fit_loss_values, epochs_fit_range],\n",
        "                [history_under_dict, loss_under_values, test_under_loss_values, epochs_under_range],\n",
        "                [history_over_dict, loss_over_values, test_over_loss_values, epochs_over_range]]"
      ],
      "execution_count": 0,
      "outputs": []
    },
    {
      "cell_type": "code",
      "metadata": {
        "id": "OvIVM1jGE6wY",
        "colab_type": "code",
        "colab": {
          "base_uri": "https://localhost:8080/",
          "height": 197
        },
        "outputId": "abb4c5a1-07b8-4ef4-9986-6239aec50476"
      },
      "source": [
        "fig = plt.figure()\n",
        "fig.subplots_adjust(right=2)\n",
        "for i in range(1, 4):\n",
        "    plt.subplot(2, 3, i)\n",
        "    plt.plot(modelHistory[i-1][3], modelHistory[i-1][1], 'bo', label='Training loss')\n",
        "    plt.plot(modelHistory[i-1][3], modelHistory[i-1][2], 'ro', label='Test loss')\n",
        "    if(i==1):\n",
        "      plt.title('Fit Training and Test Loss')\n",
        "    elif(i==2):\n",
        "      plt.title('Underfit Training and Test Loss')\n",
        "    else:\n",
        "      plt.title('Overfit  Training and Test Loss')\n",
        "    plt.xlabel('Epochs')\n",
        "    plt.ylabel('Loss')\n",
        "    plt.legend()"
      ],
      "execution_count": 55,
      "outputs": [
        {
          "output_type": "display_data",
          "data": {
            "image/png": "[encoded data removed]",
            "text/plain": [
              "<Figure size 432x288 with 3 Axes>"
            ]
          },
          "metadata": {
            "tags": []
          }
        }
      ]
    },
    {
      "cell_type": "code",
      "metadata": {
        "id": "CpgMZ_taE_yp",
        "colab_type": "code",
        "colab": {}
      },
      "source": [
        "acc_fit_values = history_fit_dict['acc']\n",
        "test_acc_fit_values = history_fit_dict['val_acc']\n",
        "\n",
        "acc_under_values = history_under_dict['acc']\n",
        "test_acc_under_values = history_under_dict['val_acc']\n",
        "\n",
        "acc_over_values = history_over_dict['acc']\n",
        "test_acc_over_values = history_over_dict['val_acc']\n",
        "\n",
        "accHistory = [[acc_fit_values, test_acc_fit_values],\n",
        "              [acc_under_values, test_acc_under_values],\n",
        "              [acc_over_values, test_acc_over_values]]"
      ],
      "execution_count": 0,
      "outputs": []
    },
    {
      "cell_type": "code",
      "metadata": {
        "id": "1dTRFneAFCq0",
        "colab_type": "code",
        "colab": {
          "base_uri": "https://localhost:8080/",
          "height": 197
        },
        "outputId": "8cdfe52c-dac6-4ab6-a057-982cf6ab5b09"
      },
      "source": [
        "fig = plt.figure()\n",
        "fig.subplots_adjust(right=2)\n",
        "for i in range(1, 4):\n",
        "    plt.subplot(2, 3, i)\n",
        "    plt.plot(modelHistory[i-1][3], accHistory[i-1][0], 'bo', label='Training acc')\n",
        "    plt.plot(modelHistory[i-1][3], accHistory[i-1][1], 'ro', label='Test acc')\n",
        "    if(i==1):\n",
        "      plt.title('Fit Training and Test Acc')\n",
        "    elif(i==2):\n",
        "      plt.title('Underfit Training and Test Acc')\n",
        "    else:\n",
        "      plt.title('Overfit  Training and Test Acc')\n",
        "    plt.xlabel('Epochs')\n",
        "    plt.ylabel('Acc')\n",
        "    plt.legend()"
      ],
      "execution_count": 54,
      "outputs": [
        {
          "output_type": "display_data",
          "data": {
            "image/png": "[encoded data removed]",
            "text/plain": [
              "<Figure size 432x288 with 3 Axes>"
            ]
          },
          "metadata": {
            "tags": []
          }
        }
      ]
    }
  ]
}