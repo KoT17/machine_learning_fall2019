{
  "nbformat": 4,
  "nbformat_minor": 0,
  "metadata": {
    "colab": {
      "name": "Fashion_MNIST_Problem_2.ipynb",
      "provenance": [],
      "collapsed_sections": []
    },
    "kernelspec": {
      "name": "python3",
      "display_name": "Python 3"
    }
  },
  "cells": [
    {
      "cell_type": "code",
      "metadata": {
        "id": "WettavzAUp55",
        "colab_type": "code",
        "colab": {}
      },
      "source": [
        "import tensorflow as tf\n",
        "from tensorflow import keras\n",
        "from keras import models\n",
        "from keras.layers import Dense, Flatten\n",
        "\n",
        "import matplotlib.pyplot as plt\n",
        "import numpy as np\n",
        "\n",
        "fashion_mnist = keras.datasets.fashion_mnist\n",
        "\n",
        "(train_images, train_labels), (test_images, test_labels) = fashion_mnist.load_data()"
      ],
      "execution_count": 0,
      "outputs": []
    },
    {
      "cell_type": "code",
      "metadata": {
        "id": "yRTAGIgZUxhP",
        "colab_type": "code",
        "colab": {}
      },
      "source": [
        "class_names = ['T-shirt/top', 'Trouser', 'Pullover', 'Dress', 'Coat',\n",
        "               'Sandal', 'Shirt', 'Sneaker', 'Bag', 'Ankle boot']\n",
        "\n",
        "train_images = train_images / 255.0\n",
        "test_images = test_images / 255.0"
      ],
      "execution_count": 0,
      "outputs": []
    },
    {
      "cell_type": "code",
      "metadata": {
        "id": "ZX6SGTpMOIKN",
        "colab_type": "code",
        "outputId": "913c02e9-dad0-4d8e-c151-ad0a811910c3",
        "colab": {
          "base_uri": "https://localhost:8080/",
          "height": 1000
        }
      },
      "source": [
        "model_fit = keras.Sequential([\n",
        "    keras.layers.Flatten(input_shape=(28, 28)),\n",
        "    keras.layers.Dense(128, activation=tf.nn.relu),\n",
        "    keras.layers.Dense(128, activation=tf.nn.relu),\n",
        "    keras.layers.Dense(128, activation=tf.nn.relu),\n",
        "    keras.layers.Dense(128, activation=tf.nn.relu),\n",
        "    keras.layers.Dense(256, activation=tf.nn.relu),\n",
        "    keras.layers.Dense(512, activation=tf.nn.relu),\n",
        "    keras.layers.Dense(1024, activation=tf.nn.relu),\n",
        "    keras.layers.Dense(2058, activation=tf.nn.relu),\n",
        "    keras.layers.Dense(10, activation=tf.nn.softmax)\n",
        "])\n",
        "\n",
        "model_fit.compile(optimizer='adam',\n",
        "             loss='sparse_categorical_crossentropy',\n",
        "             metrics=['accuracy'])\n",
        "\n",
        "fit_epochs = 30\n",
        "history_fit = model_fit.fit(train_images, \n",
        "                      train_labels,\n",
        "                      batch_size=10000, \n",
        "                      epochs=epochs,  \n",
        "                      validation_data=(test_images, test_labels))\n"
      ],
      "execution_count": 196,
      "outputs": [
        {
          "output_type": "stream",
          "text": [
            "Train on 60000 samples, validate on 10000 samples\n",
            "Epoch 1/30\n",
            "60000/60000 [==============================] - 20s 337us/sample - loss: 1.8992 - acc: 0.3623 - val_loss: 1.9032 - val_acc: 0.4692\n",
            "Epoch 2/30\n",
            "60000/60000 [==============================] - 19s 324us/sample - loss: 1.3137 - acc: 0.5442 - val_loss: 1.0406 - val_acc: 0.6194\n",
            "Epoch 3/30\n",
            "60000/60000 [==============================] - 19s 324us/sample - loss: 0.9262 - acc: 0.6346 - val_loss: 0.8264 - val_acc: 0.6795\n",
            "Epoch 4/30\n",
            "60000/60000 [==============================] - 19s 324us/sample - loss: 0.7514 - acc: 0.7120 - val_loss: 0.7186 - val_acc: 0.7211\n",
            "Epoch 5/30\n",
            "60000/60000 [==============================] - 19s 324us/sample - loss: 0.6544 - acc: 0.7504 - val_loss: 0.6501 - val_acc: 0.7530\n",
            "Epoch 6/30\n",
            "60000/60000 [==============================] - 19s 324us/sample - loss: 0.5946 - acc: 0.7785 - val_loss: 0.5803 - val_acc: 0.7750\n",
            "Epoch 7/30\n",
            "60000/60000 [==============================] - 19s 323us/sample - loss: 0.5541 - acc: 0.7907 - val_loss: 0.5448 - val_acc: 0.7995\n",
            "Epoch 8/30\n",
            "60000/60000 [==============================] - 19s 324us/sample - loss: 0.5098 - acc: 0.8125 - val_loss: 0.5191 - val_acc: 0.8132\n",
            "Epoch 9/30\n",
            "60000/60000 [==============================] - 19s 323us/sample - loss: 0.4781 - acc: 0.8269 - val_loss: 0.4977 - val_acc: 0.8196\n",
            "Epoch 10/30\n",
            "60000/60000 [==============================] - 19s 324us/sample - loss: 0.4532 - acc: 0.8372 - val_loss: 0.4754 - val_acc: 0.8266\n",
            "Epoch 11/30\n",
            "60000/60000 [==============================] - 19s 323us/sample - loss: 0.4318 - acc: 0.8442 - val_loss: 0.4608 - val_acc: 0.8324\n",
            "Epoch 12/30\n",
            "60000/60000 [==============================] - 19s 324us/sample - loss: 0.4134 - acc: 0.8510 - val_loss: 0.4445 - val_acc: 0.8406\n",
            "Epoch 13/30\n",
            "60000/60000 [==============================] - 19s 324us/sample - loss: 0.4026 - acc: 0.8542 - val_loss: 0.4469 - val_acc: 0.8375\n",
            "Epoch 14/30\n",
            "60000/60000 [==============================] - 19s 323us/sample - loss: 0.3940 - acc: 0.8571 - val_loss: 0.4368 - val_acc: 0.8409\n",
            "Epoch 15/30\n",
            "60000/60000 [==============================] - 19s 324us/sample - loss: 0.3813 - acc: 0.8610 - val_loss: 0.4129 - val_acc: 0.8494\n",
            "Epoch 16/30\n",
            "60000/60000 [==============================] - 19s 323us/sample - loss: 0.3664 - acc: 0.8649 - val_loss: 0.4102 - val_acc: 0.8524\n",
            "Epoch 17/30\n",
            "60000/60000 [==============================] - 19s 323us/sample - loss: 0.3511 - acc: 0.8712 - val_loss: 0.3988 - val_acc: 0.8546\n",
            "Epoch 18/30\n",
            "60000/60000 [==============================] - 19s 323us/sample - loss: 0.3405 - acc: 0.8752 - val_loss: 0.3878 - val_acc: 0.8589\n",
            "Epoch 19/30\n",
            "60000/60000 [==============================] - 19s 323us/sample - loss: 0.3324 - acc: 0.8780 - val_loss: 0.3939 - val_acc: 0.8551\n",
            "Epoch 20/30\n",
            "60000/60000 [==============================] - 19s 323us/sample - loss: 0.3359 - acc: 0.8761 - val_loss: 0.4046 - val_acc: 0.8536\n",
            "Epoch 21/30\n",
            "60000/60000 [==============================] - 19s 323us/sample - loss: 0.3380 - acc: 0.8739 - val_loss: 0.3948 - val_acc: 0.8577\n",
            "Epoch 22/30\n",
            "60000/60000 [==============================] - 19s 324us/sample - loss: 0.3277 - acc: 0.8785 - val_loss: 0.3704 - val_acc: 0.8655\n",
            "Epoch 23/30\n",
            "60000/60000 [==============================] - 19s 323us/sample - loss: 0.3148 - acc: 0.8825 - val_loss: 0.3785 - val_acc: 0.8637\n",
            "Epoch 24/30\n",
            "60000/60000 [==============================] - 19s 323us/sample - loss: 0.3120 - acc: 0.8841 - val_loss: 0.3701 - val_acc: 0.8676\n",
            "Epoch 25/30\n",
            "60000/60000 [==============================] - 19s 324us/sample - loss: 0.2980 - acc: 0.8903 - val_loss: 0.3655 - val_acc: 0.8658\n",
            "Epoch 26/30\n",
            "60000/60000 [==============================] - 19s 323us/sample - loss: 0.2924 - acc: 0.8920 - val_loss: 0.3672 - val_acc: 0.8669\n",
            "Epoch 27/30\n",
            "60000/60000 [==============================] - 19s 324us/sample - loss: 0.2901 - acc: 0.8926 - val_loss: 0.3586 - val_acc: 0.8704\n",
            "Epoch 28/30\n",
            "60000/60000 [==============================] - 19s 323us/sample - loss: 0.2802 - acc: 0.8951 - val_loss: 0.3625 - val_acc: 0.8716\n",
            "Epoch 29/30\n",
            "60000/60000 [==============================] - 19s 323us/sample - loss: 0.2773 - acc: 0.8955 - val_loss: 0.3640 - val_acc: 0.8698\n",
            "Epoch 30/30\n",
            "60000/60000 [==============================] - 19s 323us/sample - loss: 0.2775 - acc: 0.8963 - val_loss: 0.3595 - val_acc: 0.8720\n"
          ],
          "name": "stdout"
        }
      ]
    },
    {
      "cell_type": "code",
      "metadata": {
        "id": "QNXLMpvzu5Fh",
        "colab_type": "code",
        "colab": {
          "base_uri": "https://localhost:8080/",
          "height": 394
        },
        "outputId": "0b98025d-c2ae-473b-9743-8edf5449c706"
      },
      "source": [
        "model_underfit = keras.Sequential([\n",
        "    keras.layers.Flatten(input_shape=(28,28)),\n",
        "    keras.layers.Dense(2, activation=tf.nn.relu),\n",
        "    keras.layers.Dense(10,activation=tf.nn.softmax)\n",
        "])\n",
        "\n",
        "model_underfit.compile(optimizer='adam',\n",
        "             loss='sparse_categorical_crossentropy',\n",
        "             metrics=['accuracy'])\n",
        "\n",
        "under_epochs = 10\n",
        "history_underfit = model_underfit.fit(train_images[:10], \n",
        "                      train_labels[:10], \n",
        "                      epochs=under_epochs,  \n",
        "                      validation_data=(test_images, test_labels))"
      ],
      "execution_count": 236,
      "outputs": [
        {
          "output_type": "stream",
          "text": [
            "Train on 10 samples, validate on 10000 samples\n",
            "Epoch 1/10\n",
            "10/10 [==============================] - 1s 145ms/sample - loss: 2.2996 - acc: 0.2000 - val_loss: 2.3017 - val_acc: 0.0702\n",
            "Epoch 2/10\n",
            "10/10 [==============================] - 0s 44ms/sample - loss: 2.2964 - acc: 0.3000 - val_loss: 2.3015 - val_acc: 0.0705\n",
            "Epoch 3/10\n",
            "10/10 [==============================] - 0s 43ms/sample - loss: 2.2919 - acc: 0.3000 - val_loss: 2.3013 - val_acc: 0.0700\n",
            "Epoch 4/10\n",
            "10/10 [==============================] - 0s 44ms/sample - loss: 2.2874 - acc: 0.3000 - val_loss: 2.3011 - val_acc: 0.0674\n",
            "Epoch 5/10\n",
            "10/10 [==============================] - 0s 46ms/sample - loss: 2.2830 - acc: 0.3000 - val_loss: 2.3014 - val_acc: 0.0639\n",
            "Epoch 6/10\n",
            "10/10 [==============================] - 0s 46ms/sample - loss: 2.2788 - acc: 0.2000 - val_loss: 2.3023 - val_acc: 0.0596\n",
            "Epoch 7/10\n",
            "10/10 [==============================] - 0s 46ms/sample - loss: 2.2783 - acc: 0.2000 - val_loss: 2.3024 - val_acc: 0.0878\n",
            "Epoch 8/10\n",
            "10/10 [==============================] - 0s 46ms/sample - loss: 2.2759 - acc: 0.2000 - val_loss: 2.3020 - val_acc: 0.0939\n",
            "Epoch 9/10\n",
            "10/10 [==============================] - 0s 44ms/sample - loss: 2.2724 - acc: 0.2000 - val_loss: 2.3015 - val_acc: 0.0988\n",
            "Epoch 10/10\n",
            "10/10 [==============================] - 0s 47ms/sample - loss: 2.2681 - acc: 0.2000 - val_loss: 2.3011 - val_acc: 0.1030\n"
          ],
          "name": "stdout"
        }
      ]
    },
    {
      "cell_type": "code",
      "metadata": {
        "id": "OrWjeUtdvJYe",
        "colab_type": "code",
        "colab": {
          "base_uri": "https://localhost:8080/",
          "height": 904
        },
        "outputId": "599f9d90-4a73-4d67-a4c5-03f556ac5bda"
      },
      "source": [
        "model_overfit = keras.Sequential([\n",
        "    keras.layers.Flatten(input_shape=(28,28)),\n",
        "    keras.layers.Dense(10,activation=tf.nn.softmax)\n",
        "])\n",
        "\n",
        "model_overfit.compile(optimizer='adam',\n",
        "             loss='sparse_categorical_crossentropy',\n",
        "             metrics=['accuracy'])\n",
        "\n",
        "over_epochs = 25\n",
        "history_overfit = model_overfit.fit(train_images[:50], \n",
        "                                    train_labels[:50],\n",
        "                                    epochs=over_epochs,\n",
        "                                    validation_data=(test_images, test_labels))\n"
      ],
      "execution_count": 230,
      "outputs": [
        {
          "output_type": "stream",
          "text": [
            "Train on 50 samples, validate on 10000 samples\n",
            "Epoch 1/25\n",
            "50/50 [==============================] - 1s 22ms/sample - loss: 2.3923 - acc: 0.0600 - val_loss: 2.3324 - val_acc: 0.1211\n",
            "Epoch 2/25\n",
            "50/50 [==============================] - 0s 9ms/sample - loss: 2.1614 - acc: 0.2200 - val_loss: 2.2405 - val_acc: 0.1769\n",
            "Epoch 3/25\n",
            "50/50 [==============================] - 0s 9ms/sample - loss: 2.0017 - acc: 0.3200 - val_loss: 2.1672 - val_acc: 0.2487\n",
            "Epoch 4/25\n",
            "50/50 [==============================] - 0s 9ms/sample - loss: 1.8700 - acc: 0.3800 - val_loss: 2.0901 - val_acc: 0.2910\n",
            "Epoch 5/25\n",
            "50/50 [==============================] - 0s 9ms/sample - loss: 1.7539 - acc: 0.4200 - val_loss: 2.0050 - val_acc: 0.3305\n",
            "Epoch 6/25\n",
            "50/50 [==============================] - 0s 9ms/sample - loss: 1.6393 - acc: 0.5200 - val_loss: 1.9231 - val_acc: 0.3579\n",
            "Epoch 7/25\n",
            "50/50 [==============================] - 0s 9ms/sample - loss: 1.5430 - acc: 0.5800 - val_loss: 1.8401 - val_acc: 0.3825\n",
            "Epoch 8/25\n",
            "50/50 [==============================] - 0s 9ms/sample - loss: 1.4493 - acc: 0.6000 - val_loss: 1.7654 - val_acc: 0.4023\n",
            "Epoch 9/25\n",
            "50/50 [==============================] - 0s 9ms/sample - loss: 1.3669 - acc: 0.6000 - val_loss: 1.6983 - val_acc: 0.4195\n",
            "Epoch 10/25\n",
            "50/50 [==============================] - 0s 9ms/sample - loss: 1.2903 - acc: 0.6600 - val_loss: 1.6380 - val_acc: 0.4349\n",
            "Epoch 11/25\n",
            "50/50 [==============================] - 0s 9ms/sample - loss: 1.2239 - acc: 0.6800 - val_loss: 1.5840 - val_acc: 0.4480\n",
            "Epoch 12/25\n",
            "50/50 [==============================] - 0s 9ms/sample - loss: 1.1586 - acc: 0.6600 - val_loss: 1.5331 - val_acc: 0.4615\n",
            "Epoch 13/25\n",
            "50/50 [==============================] - 0s 9ms/sample - loss: 1.0996 - acc: 0.6600 - val_loss: 1.4846 - val_acc: 0.4744\n",
            "Epoch 14/25\n",
            "50/50 [==============================] - 0s 8ms/sample - loss: 1.0438 - acc: 0.7000 - val_loss: 1.4429 - val_acc: 0.4892\n",
            "Epoch 15/25\n",
            "50/50 [==============================] - 0s 9ms/sample - loss: 0.9930 - acc: 0.7600 - val_loss: 1.4067 - val_acc: 0.5012\n",
            "Epoch 16/25\n",
            "50/50 [==============================] - 0s 8ms/sample - loss: 0.9503 - acc: 0.8000 - val_loss: 1.3764 - val_acc: 0.5132\n",
            "Epoch 17/25\n",
            "50/50 [==============================] - 0s 8ms/sample - loss: 0.9112 - acc: 0.8200 - val_loss: 1.3510 - val_acc: 0.5227\n",
            "Epoch 18/25\n",
            "50/50 [==============================] - 0s 8ms/sample - loss: 0.8757 - acc: 0.8600 - val_loss: 1.3266 - val_acc: 0.5336\n",
            "Epoch 19/25\n",
            "50/50 [==============================] - 0s 8ms/sample - loss: 0.8369 - acc: 0.9000 - val_loss: 1.3014 - val_acc: 0.5510\n",
            "Epoch 20/25\n",
            "50/50 [==============================] - 0s 9ms/sample - loss: 0.8046 - acc: 0.9000 - val_loss: 1.2799 - val_acc: 0.5617\n",
            "Epoch 21/25\n",
            "50/50 [==============================] - 0s 8ms/sample - loss: 0.7733 - acc: 0.9200 - val_loss: 1.2610 - val_acc: 0.5704\n",
            "Epoch 22/25\n",
            "50/50 [==============================] - 0s 9ms/sample - loss: 0.7465 - acc: 0.9200 - val_loss: 1.2437 - val_acc: 0.5800\n",
            "Epoch 23/25\n",
            "50/50 [==============================] - 0s 9ms/sample - loss: 0.7220 - acc: 0.9200 - val_loss: 1.2275 - val_acc: 0.5853\n",
            "Epoch 24/25\n",
            "50/50 [==============================] - 0s 9ms/sample - loss: 0.6945 - acc: 0.9200 - val_loss: 1.2148 - val_acc: 0.5880\n",
            "Epoch 25/25\n",
            "50/50 [==============================] - 0s 9ms/sample - loss: 0.6710 - acc: 0.9200 - val_loss: 1.2047 - val_acc: 0.5881\n"
          ],
          "name": "stdout"
        }
      ]
    },
    {
      "cell_type": "code",
      "metadata": {
        "id": "Yu2Pi8EaMvVi",
        "colab_type": "code",
        "colab": {
          "base_uri": "https://localhost:8080/",
          "height": 493
        },
        "outputId": "32b9bc2d-b608-4cfc-80b6-f9748ce86c87"
      },
      "source": [
        "model_fit.summary()"
      ],
      "execution_count": 199,
      "outputs": [
        {
          "output_type": "stream",
          "text": [
            "Model: \"sequential_18\"\n",
            "_________________________________________________________________\n",
            "Layer (type)                 Output Shape              Param #   \n",
            "=================================================================\n",
            "flatten_18 (Flatten)         (None, 784)               0         \n",
            "_________________________________________________________________\n",
            "dense_78 (Dense)             (None, 128)               100480    \n",
            "_________________________________________________________________\n",
            "dense_79 (Dense)             (None, 128)               16512     \n",
            "_________________________________________________________________\n",
            "dense_80 (Dense)             (None, 128)               16512     \n",
            "_________________________________________________________________\n",
            "dense_81 (Dense)             (None, 128)               16512     \n",
            "_________________________________________________________________\n",
            "dense_82 (Dense)             (None, 256)               33024     \n",
            "_________________________________________________________________\n",
            "dense_83 (Dense)             (None, 512)               131584    \n",
            "_________________________________________________________________\n",
            "dense_84 (Dense)             (None, 1024)              525312    \n",
            "_________________________________________________________________\n",
            "dense_85 (Dense)             (None, 2058)              2109450   \n",
            "_________________________________________________________________\n",
            "dense_86 (Dense)             (None, 10)                20590     \n",
            "=================================================================\n",
            "Total params: 2,969,976\n",
            "Trainable params: 2,969,976\n",
            "Non-trainable params: 0\n",
            "_________________________________________________________________\n"
          ],
          "name": "stdout"
        }
      ]
    },
    {
      "cell_type": "code",
      "metadata": {
        "id": "3-j4zsdIjb72",
        "colab_type": "code",
        "colab": {
          "base_uri": "https://localhost:8080/",
          "height": 255
        },
        "outputId": "8986a667-1f21-4f9a-c6d2-5a443562a367"
      },
      "source": [
        "model_underfit.summary()"
      ],
      "execution_count": 200,
      "outputs": [
        {
          "output_type": "stream",
          "text": [
            "Model: \"sequential_19\"\n",
            "_________________________________________________________________\n",
            "Layer (type)                 Output Shape              Param #   \n",
            "=================================================================\n",
            "flatten_19 (Flatten)         (None, 784)               0         \n",
            "_________________________________________________________________\n",
            "dense_87 (Dense)             (None, 2)                 1570      \n",
            "_________________________________________________________________\n",
            "dense_88 (Dense)             (None, 10)                30        \n",
            "=================================================================\n",
            "Total params: 1,600\n",
            "Trainable params: 1,600\n",
            "Non-trainable params: 0\n",
            "_________________________________________________________________\n"
          ],
          "name": "stdout"
        }
      ]
    },
    {
      "cell_type": "code",
      "metadata": {
        "id": "Sv9K3GHCnckX",
        "colab_type": "code",
        "colab": {
          "base_uri": "https://localhost:8080/",
          "height": 255
        },
        "outputId": "43c659ac-8dfc-48be-9738-505aa346c197"
      },
      "source": [
        "model_overfit.summary()"
      ],
      "execution_count": 201,
      "outputs": [
        {
          "output_type": "stream",
          "text": [
            "Model: \"sequential_20\"\n",
            "_________________________________________________________________\n",
            "Layer (type)                 Output Shape              Param #   \n",
            "=================================================================\n",
            "flatten_20 (Flatten)         (None, 784)               0         \n",
            "_________________________________________________________________\n",
            "dense_89 (Dense)             (None, 10)                7850      \n",
            "_________________________________________________________________\n",
            "dense_90 (Dense)             (None, 10)                110       \n",
            "=================================================================\n",
            "Total params: 7,960\n",
            "Trainable params: 7,960\n",
            "Non-trainable params: 0\n",
            "_________________________________________________________________\n"
          ],
          "name": "stdout"
        }
      ]
    },
    {
      "cell_type": "code",
      "metadata": {
        "id": "VdgQxNdCWTdo",
        "colab_type": "code",
        "outputId": "993b4135-684c-4b9d-86b5-a445699ef289",
        "colab": {
          "base_uri": "https://localhost:8080/",
          "height": 204
        }
      },
      "source": [
        "test_fit_loss, test_fit_acc = model_fit.evaluate(test_images, test_labels)\n",
        "test_under_loss, test_under_acc = model_underfit.evaluate(test_images, test_labels)\n",
        "test_over_loss, test_over_acc = model_overfit.evaluate(test_images, test_labels)\n",
        "\n",
        "print('Fit Model: Test accuracy:', test_fit_acc*100)\n",
        "print('Underfit Model: Test accuracy:', test_under_acc*100)\n",
        "print('Overfit Model: Test accuracy:', test_over_acc*100,'\\n\\n')\n",
        "print('Fit Model: Test loss:', test_fit_loss)\n",
        "print('Underfit Model: Test loss:', test_under_loss)\n",
        "print('Overfit Model: Test loss:', test_over_loss)"
      ],
      "execution_count": 243,
      "outputs": [
        {
          "output_type": "stream",
          "text": [
            "10000/10000 [==============================] - 3s 258us/sample - loss: 0.3595 - acc: 0.8720\n",
            "10000/10000 [==============================] - 0s 41us/sample - loss: 2.3011 - acc: 0.1030\n",
            "10000/10000 [==============================] - 0s 41us/sample - loss: 1.2047 - acc: 0.5881\n",
            "Fit Model: Test accuracy: 87.1999979019165\n",
            "Underfit Model: Test accuracy: 10.300000011920929\n",
            "Overfit Model: Test accuracy: 58.810001611709595 \n",
            "\n",
            "\n",
            "Fit Model: Test loss: 0.3594939056158066\n",
            "Underfit Model: Test loss: 2.3010582649230957\n",
            "Overfit Model: Test loss: 1.204738477897644\n"
          ],
          "name": "stdout"
        }
      ]
    },
    {
      "cell_type": "code",
      "metadata": {
        "id": "3b5OCE5YTrEc",
        "colab_type": "code",
        "colab": {}
      },
      "source": [
        "history_fit_dict = history_fit.history\n",
        "loss_fit_values = history_fit_dict['loss']\n",
        "test_fit_loss_values = history_fit_dict['val_loss']\n",
        "epochs_fit_range = range(1, fit_epochs+1)\n",
        "\n",
        "history_under_dict = history_underfit.history\n",
        "loss_under_values = history_under_dict['loss']\n",
        "test_under_loss_values = history_under_dict['val_loss']\n",
        "epochs_under_range = range(1, under_epochs+1)\n",
        "\n",
        "history_over_dict = history_overfit.history\n",
        "loss_over_values = history_over_dict['loss']\n",
        "test_over_loss_values = history_over_dict['val_loss']\n",
        "epochs_over_range = range(1, over_epochs+1)\n",
        "\n",
        "modelHistory = [[history_fit_dict, loss_fit_values, test_fit_loss_values, epochs_fit_range],\n",
        "                [history_under_dict, loss_under_values, test_under_loss_values, epochs_under_range],\n",
        "                [history_over_dict, loss_over_values, test_over_loss_values, epochs_over_range]]"
      ],
      "execution_count": 0,
      "outputs": []
    },
    {
      "cell_type": "code",
      "metadata": {
        "id": "UFV856d6rZbv",
        "colab_type": "code",
        "colab": {
          "base_uri": "https://localhost:8080/",
          "height": 197
        },
        "outputId": "f58c9ccb-39a9-4925-d904-21a86a6b7572"
      },
      "source": [
        "fig = plt.figure()\n",
        "fig.subplots_adjust(right=2)\n",
        "for i in range(1, 4):\n",
        "    plt.subplot(2, 3, i)\n",
        "    plt.plot(modelHistory[i-1][3], modelHistory[i-1][1], 'bo', label='Training loss')\n",
        "    plt.plot(modelHistory[i-1][3], modelHistory[i-1][2], 'ro', label='Test loss')\n",
        "    if(i==1):\n",
        "      plt.title('Fit Training and Test Loss')\n",
        "    elif(i==2):\n",
        "      plt.title('Underfit Training and Test Loss')\n",
        "    else:\n",
        "      plt.title('Overfit  Training and Test Loss')\n",
        "    plt.xlabel('Epochs')\n",
        "    plt.ylabel('Loss')\n",
        "    plt.legend()\n"
      ],
      "execution_count": 240,
      "outputs": [
        {
          "output_type": "display_data",
          "data": {
            "image/png": "[encoded data removed]",
            "text/plain": [
              "<Figure size 432x288 with 3 Axes>"
            ]
          },
          "metadata": {
            "tags": []
          }
        }
      ]
    },
    {
      "cell_type": "code",
      "metadata": {
        "id": "-QXElP2qCoFK",
        "colab_type": "code",
        "colab": {}
      },
      "source": [
        "acc_fit_values = history_fit_dict['acc']\n",
        "test_acc_fit_values = history_fit_dict['val_acc']\n",
        "\n",
        "acc_under_values = history_under_dict['acc']\n",
        "test_acc_under_values = history_under_dict['val_acc']\n",
        "\n",
        "acc_over_values = history_over_dict['acc']\n",
        "test_acc_over_values = history_over_dict['val_acc']\n",
        "\n",
        "accHistory = [[acc_fit_values, test_acc_fit_values],\n",
        "              [acc_under_values, test_acc_under_values],\n",
        "              [acc_over_values, test_acc_over_values]]"
      ],
      "execution_count": 0,
      "outputs": []
    },
    {
      "cell_type": "code",
      "metadata": {
        "id": "WJCNa2huWjWu",
        "colab_type": "code",
        "colab": {
          "base_uri": "https://localhost:8080/",
          "height": 197
        },
        "outputId": "0c2265b9-077d-4308-dfa4-991127fb8af2"
      },
      "source": [
        "fig = plt.figure()\n",
        "fig.subplots_adjust(right=2)\n",
        "for i in range(1, 4):\n",
        "    plt.subplot(2, 3, i)\n",
        "    plt.plot(modelHistory[i-1][3], accHistory[i-1][0], 'bo', label='Training acc')\n",
        "    plt.plot(modelHistory[i-1][3], accHistory[i-1][1], 'ro', label='Test acc')\n",
        "    if(i==1):\n",
        "      plt.title('Fit Training and Test Acc')\n",
        "    elif(i==2):\n",
        "      plt.title('Underfit Training and Test Acc')\n",
        "    else:\n",
        "      plt.title('Overfit  Training and Test Acc')\n",
        "    plt.xlabel('Epochs')\n",
        "    plt.ylabel('Acc')\n",
        "    plt.legend()"
      ],
      "execution_count": 242,
      "outputs": [
        {
          "output_type": "display_data",
          "data": {
            "image/png": "[encoded data removed]",
            "text/plain": [
              "<Figure size 432x288 with 3 Axes>"
            ]
          },
          "metadata": {
            "tags": []
          }
        }
      ]
    }
  ]
}